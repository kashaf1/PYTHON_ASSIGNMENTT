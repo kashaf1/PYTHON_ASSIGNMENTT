{
 "cells": [
  {
   "cell_type": "code",
   "execution_count": 2,
   "metadata": {},
   "outputs": [
    {
     "name": "stdout",
     "output_type": "stream",
     "text": [
      "Object-oriented programming (OOP) is a programming language model in which programs are organized around data,objects, rather than functions and logic.\n",
      "An object can be defined as a data field that has unique attributes and behavior\n",
      "Examples of an object can range from physical entities, such as a human being that is described by properties like name and address, down to small computer programs, such as widgets.\n"
     ]
    }
   ],
   "source": [
    "#Task1\n",
    "print('Object-oriented programming (OOP) is a programming language model in which programs are organized around data,objects, rather than functions and logic.')\n",
    "print('An object can be defined as a data field that has unique attributes and behavior')\n",
    "print('Examples of an object can range from physical entities, such as a human being that is described by properties like name and address, down to small computer programs, such as widgets.')"
   ]
  },
  {
   "cell_type": "code",
   "execution_count": 3,
   "metadata": {},
   "outputs": [
    {
     "name": "stdout",
     "output_type": "stream",
     "text": [
      "The advantages of object-oriented programming lie in this kind of encapsulation\n",
      "1. Modularity for easier troubleshooting\n",
      "2. Reuse of code through inheritance\n",
      "3. Flexibility through polymorphism\n",
      "4. Effective problem solving  \n",
      "5. OOP languages allows you to break down your software into bite-sized problems that you then can solve one object at a time.\n"
     ]
    }
   ],
   "source": [
    "#Task2\n",
    "print('The advantages of object-oriented programming lie in this kind of encapsulation' )\n",
    "print('1. Modularity for easier troubleshooting')\n",
    "print('2. Reuse of code through inheritance')\n",
    "print('3. Flexibility through polymorphism') \n",
    "print('4. Effective problem solving  ')\n",
    "      \n",
    "print('5. OOP languages allows you to break down your software into bite-sized problems that you then can solve one object at a time.')     \n",
    "      "
   ]
  },
  {
   "cell_type": "code",
   "execution_count": 19,
   "metadata": {},
   "outputs": [
    {
     "name": "stdout",
     "output_type": "stream",
     "text": [
      "Function:  \n",
      "A function is a piece of code that is called by name.It can be passed data to operate on (i.e. the parameters) and can optionally return data (the return value). All data that is passed to a function is explicitly passed.\n",
      "Method: A method is a piece of code that is called by a name that is associated with an object. \n"
     ]
    }
   ],
   "source": [
    "#Task3\n",
    "print('Function:  ')\n",
    "print('A function is a piece of code that is called by name.It can be passed data to operate on (i.e. the parameters) and can optionally return data (the return value). All data that is passed to a function is explicitly passed.')\n",
    "print('Method: A method is a piece of code that is called by a name that is associated with an object. ')\n"
   ]
  },
  {
   "cell_type": "code",
   "execution_count": 21,
   "metadata": {},
   "outputs": [
    {
     "name": "stdout",
     "output_type": "stream",
     "text": [
      "\n",
      " 1. Class: Classes in object-oriented programming, a class is a blueprint for creating objects.(a particular data structure),  providing initial values for state (member variables or attributes), and implementations of behavior (member functions   or      methods). The user-defined objects are created using the class keyword.\n",
      "\n",
      " 2. Object: In object-oriented programming (OOP), are the units of code that are eventually derived from the process.    Each   object is an instance of a particular class or subclass with the class's own methods or procedures and  data variables.\n",
      "\n",
      " 3. Attribute: Attributes are data stored inside a   class or instance and represent the state or quality of the class   or  instance.   In short, attributes store information about the instance.\n",
      "\n",
      " 4. Behaviour: The behavior of an object is defined by its methods, which are the functions and subroutines defined within the object class. Without class methods, a class would simply be a structure. Methods determine what  type of functionality a class has, how it modifies its data, and its overall behavior.\n"
     ]
    }
   ],
   "source": [
    "#Task4\n",
    "print('\\n 1. Class: Classes in object-oriented programming, a class is a blueprint for creating objects.(a particular data structure),  providing initial values for state (member variables or attributes), and implementations of behavior (member functions   or      methods). The user-defined objects are created using the class keyword.')\n",
    "print('\\n 2. Object: In object-oriented programming (OOP), are the units of code that are eventually derived from the process.    Each   object is an instance of a particular class or subclass with the class\\'s own methods or procedures and  data variables.')   \n",
    "print('\\n 3. Attribute: Attributes are data stored inside a   class or instance and represent the state or quality of the class   or  instance.   In short, attributes store information about the instance.')    \n",
    "print('\\n 4. Behaviour: The behavior of an object is defined by its methods, which are the functions and subroutines defined within the object class. Without class methods, a class would simply be a structure. Methods determine what  type of functionality a class has, how it modifies its data, and its overall behavior.')    \n"
   ]
  },
  {
   "cell_type": "code",
   "execution_count": null,
   "metadata": {},
   "outputs": [],
   "source": [
    "class car():\n",
    "    def _init_(self,name,model,color,cost,company):\n",
    "        self.name = name \n",
    "        self.model = model \n",
    "        self.color = color \n",
    "        self.cost = cost \n",
    "        self.company = company\n",
    "        \n",
    "    def in_range(self):\n",
    "        if int(self.cost) < 400000:\n",
    "            print(\"within range\")\n",
    "        else:\n",
    "            print(\"out of range\")\n",
    "            \n",
    "    def car_color(self):\n",
    "        if self.color == \"Jet black\":\n",
    "            print(\"Available\")\n",
    "        else:\n",
    "            print(\"Not available\")\n",
    "    \n",
    "    def car_model(self):\n",
    "        if int(self.model) < 2019:\n",
    "            print(\"Old Model\")\n",
    "        else :\n",
    "            print (\"New Model\")\n",
    "            \n",
    "Car1 = car('Mercedes','2015','Jet black','9000000','Daimler AG')\n",
    "Car2 = car('Corolla','2019','White','300000','Toyota')\n",
    "Car3 = car('Mehran','2008','Brown','100000','Suszuki')\n",
    "Car4 = car('Civic','2017','Red','500000','Honda')\n",
    "Car5 = car('Cultus','2011','Black','400000','Suzuki')\n",
    "\n",
    "print(\"Details of Car No.1 : \")\n",
    "print(Car1.name)\n",
    "print(Car1.model)\n",
    "print(Car1.color)\n",
    "print(Car1.cost)\n",
    "print(Car1.company)\n",
    "Car1.in_range()\n",
    "Car1.car_color()\n",
    "Car1.car_model()\n",
    "print(\"\\n\")\n",
    "\n",
    "print(\"Details of Car No.2 :\")\n",
    "print(Car2.name)\n",
    "print(Car2.model)\n",
    "print(Car2.color)\n",
    "print(Car2.cost)\n",
    "print(Car2.company)\n",
    "Car2.in_range()\n",
    "Car2.car_color()\n",
    "Car2.car_model()\n",
    "print(\"\\n\")\n",
    "\n",
    "print(\"Details of Car No.3 :\")\n",
    "print(Car3.name)\n",
    "print(Car3.model)\n",
    "print(Car3.color)\n",
    "print(Car3.cost)\n",
    "print(Car3.company)\n",
    "Car3.in_range()\n",
    "Car3.car_color()\n",
    "Car3.car_model()\n",
    "print(\"\\n\")\n",
    "\n",
    "print(\"Details of Car No.4 :\")\n",
    "print(Car4.name)\n",
    "print(Car4.model)\n",
    "print(Car4.color)\n",
    "print(Car4.cost)\n",
    "print(Car4.company)\n",
    "Car4.in_range()\n",
    "Car4.car_color()\n",
    "Car4.car_model()\n",
    "print(\"\\n\")\n",
    "\n",
    "print(\"Details of Car No.5 :\")\n",
    "print(Car5.name)\n",
    "print(Car5.model)\n",
    "print(Car5.color)\n",
    "print(Car5.cost)\n",
    "print(Car5.company)\n",
    "Car5.in_range()\n",
    "Car5.car_color()\n",
    "Car5.car_model()\n",
    "print(\"\\n\")"
   ]
  }
 ],
 "metadata": {
  "kernelspec": {
   "display_name": "Python 3",
   "language": "python",
   "name": "python3"
  },
  "language_info": {
   "codemirror_mode": {
    "name": "ipython",
    "version": 3
   },
   "file_extension": ".py",
   "mimetype": "text/x-python",
   "name": "python",
   "nbconvert_exporter": "python",
   "pygments_lexer": "ipython3",
   "version": "3.7.4"
  }
 },
 "nbformat": 4,
 "nbformat_minor": 2
}
