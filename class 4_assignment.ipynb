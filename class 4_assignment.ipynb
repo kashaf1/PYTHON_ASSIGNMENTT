{
 "cells": [
  {
   "cell_type": "code",
   "execution_count": 18,
   "metadata": {
    "scrolled": true
   },
   "outputs": [
    {
     "name": "stdout",
     "output_type": "stream",
     "text": [
      "person Dictionary \n",
      "  [{'first_name': 'kashaf', 'last_name': 'Arshad', 'age': 20, 'city': 'Hyderabad'}]\n",
      "\n",
      " Qualification is : intermediate\n",
      "Now After added \n",
      "  [{'first_name': 'kashaf', 'last_name': 'Arshad', 'age': 20, 'city': 'Hyderabad'}, 'intermediate']\n",
      "\n",
      " *** Now, deleted the value of Qualification**** \n",
      "[{}]\n"
     ]
    }
   ],
   "source": [
    "person =[\n",
    "    {\n",
    "     'first_name' :'kashaf',\n",
    "      'last_name' :'Arshad',  \n",
    "        'age'     :  20,\n",
    "        'city'    : 'Hyderabad'\n",
    "    }\n",
    "]\n",
    "print(\"person Dictionary \\n \",person)\n",
    "\n",
    "add_quali=[\n",
    " {\n",
    "  'qualification':'intermediate'   \n",
    "   }   \n",
    "]\n",
    "print('\\n Qualification is :',add_quali[0]['qualification'])\n",
    "\n",
    "person.append(add_quali[0]['qualification'])\n",
    "print('Now After added \\n ',person)\n",
    "\n",
    "print('\\n *** Now, deleted the value of Qualification**** ')\n",
    "del add_quali[0]['qualification']\n",
    "print(add_quali)"
   ]
  },
  {
   "cell_type": "code",
   "execution_count": 29,
   "metadata": {},
   "outputs": [
    {
     "name": "stdout",
     "output_type": "stream",
     "text": [
      "Name of cities :\n",
      "  dict_keys(['karachi', 'hyderabad', 'islamabad'])\n",
      "\n",
      " Information about cities : \n",
      " {'Country': 'pakistan', 'Population': 15741000, 'Fact': 'It is the Sixth largest city in the world by city population '} \n",
      " {'Country': 'pakistan', 'Population': 5734601, 'fact': \"it's Second largest city in Sindh and fourth largest in pakistan.\"} \n",
      " {'Country': 'pakistan ', 'Population': 1095064, 'Fact': 'The name Islamabad City of Islam or City of Peace.'}\n"
     ]
    }
   ],
   "source": [
    "cities= {\n",
    "    \n",
    "  'karachi' :{\n",
    "       \n",
    "        'Country'    :'pakistan',\n",
    "        'Population' :15741000,\n",
    "        'Fact'       :'It is the Sixth largest city in the world by city population '\n",
    "                           \n",
    "              }, \n",
    " \n",
    "  'hyderabad':{\n",
    "        \n",
    "         'Country'    :'pakistan',\n",
    "         'Population' : 5734601,\n",
    "         'Fact'      :'it\\'s Second largest city in Sindh and fourth largest in pakistan.' \n",
    "                           \n",
    "             },\n",
    "    \n",
    " 'islamabad' :{\n",
    "     \n",
    "         'Country'    :'pakistan ',\n",
    "         'Population' : 1095064,\n",
    "         'Fact'      :  \"The name Islamabad City of Islam or City of Peace.\"  \n",
    "                       }\n",
    "}\n",
    "\n",
    "print('Name of cities :\\n ', cities.keys()) \n",
    "print('\\n Information about cities : \\n',cities['karachi'] ,'\\n',cities['hyderabad'],'\\n',cities['islamabad'])"
   ]
  },
  {
   "cell_type": "code",
   "execution_count": 5,
   "metadata": {},
   "outputs": [
    {
     "name": "stdout",
     "output_type": "stream",
     "text": [
      "Enter your age please :1\n",
      "Enter your age please :5\n",
      "this ticket is $10\n"
     ]
    }
   ],
   "source": [
    "count ='my'\n",
    "\n",
    "for loop in count:\n",
    "    age= input('Enter your age please :')\n",
    "    age= int(age)\n",
    "\n",
    "if age<3 :\n",
    "    print('Ticket is free')\n",
    "elif age>=3 and age<=12:\n",
    "    print('this ticket is $10')\n",
    "elif age>12 and age <100:\n",
    "    print('this ticket is $15')\n",
    "else:\n",
    "    print('Enter correct age')\n",
    "    "
   ]
  },
  {
   "cell_type": "code",
   "execution_count": 1,
   "metadata": {},
   "outputs": [
    {
     "name": "stdout",
     "output_type": "stream",
     "text": [
      "Favorite books is Alice\n",
      "One of my favorite books is Alice in Wonderland.\n"
     ]
    }
   ],
   "source": [
    "def favorite_book(title):\n",
    "    print(title)\n",
    "    print('One of my favorite books is Alice in Wonderland.')\n",
    "    \n",
    "title='Favorite books is Alice'\n",
    "\n",
    "#calling a function\n",
    "favorite_book(title)   \n",
    "    "
   ]
  },
  {
   "cell_type": "code",
   "execution_count": 3,
   "metadata": {},
   "outputs": [
    {
     "name": "stdout",
     "output_type": "stream",
     "text": [
      "chance1: Guess the number from 1 to 30: 28\n",
      "chance2: Guess the number from 1 to 30: 20\n",
      "chance3: Guess the number from 1 to 30: 19\n",
      "The number is : 5\n",
      "lose !\n"
     ]
    }
   ],
   "source": [
    "from random import randint \n",
    "\n",
    "for i in range(1):\n",
    "    chance1 =input ('chance1: Guess the number from 1 to 30: ')\n",
    "    chance2 =input ('chance2: Guess the number from 1 to 30: ')\n",
    "    chance3 =input ('chance3: Guess the number from 1 to 30: ')\n",
    "    value = randint(1, 30)\n",
    "    print('The number is :',value)\n",
    "    if (chance1 != value) or (chance2 != value) or (chance3 != value) :\n",
    "        print('lose !')\n",
    "    else:\n",
    "        print('win!')      "
   ]
  }
 ],
 "metadata": {
  "kernelspec": {
   "display_name": "Python 3",
   "language": "python",
   "name": "python3"
  },
  "language_info": {
   "codemirror_mode": {
    "name": "ipython",
    "version": 3
   },
   "file_extension": ".py",
   "mimetype": "text/x-python",
   "name": "python",
   "nbconvert_exporter": "python",
   "pygments_lexer": "ipython3",
   "version": "3.7.4"
  }
 },
 "nbformat": 4,
 "nbformat_minor": 2
}
