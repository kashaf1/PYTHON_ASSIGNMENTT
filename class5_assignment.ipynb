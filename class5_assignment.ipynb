{
 "cells": [
  {
   "cell_type": "code",
   "execution_count": 6,
   "metadata": {},
   "outputs": [
    {
     "name": "stdout",
     "output_type": "stream",
     "text": [
      "factorial of  5  is  120\n"
     ]
    }
   ],
   "source": [
    "#TASK_1\n",
    "\n",
    "def fac_num(n,fac = 1):\n",
    "    for i in range(1, n + 1):\n",
    "        fac = fac * i\n",
    "    print(\"factorial of \", n, \" is \", fac)\n",
    "\n",
    "fac_num(5)"
   ]
  },
  {
   "cell_type": "code",
   "execution_count": 6,
   "metadata": {},
   "outputs": [
    {
     "data": {
      "text/plain": [
       "('UpperCase letter :', 3, 'LowerCase letter: ', 17)"
      ]
     },
     "execution_count": 6,
     "metadata": {},
     "output_type": "execute_result"
    }
   ],
   "source": [
    "#TASK_2\n",
    "\n",
    "def character(String_Value):\n",
    "    Ucount=0\n",
    "    Lcount=0\n",
    "    \n",
    "    for i in String_Value:\n",
    "        if (i.isupper()) == True: \n",
    "            Ucount+= 1\n",
    "             \n",
    "        else:\n",
    "            Lcount+= 1\n",
    "        \n",
    "    return \"UpperCase letter :\", Ucount, \"LowerCase letter: \",Lcount\n",
    "   \n",
    "  \n",
    "character(\"The quick Brown Fox'\")     "
   ]
  },
  {
   "cell_type": "code",
   "execution_count": 11,
   "metadata": {},
   "outputs": [
    {
     "name": "stdout",
     "output_type": "stream",
     "text": [
      "it's Even Number : 2\n",
      "it's Even Number : 4\n",
      "it's Even Number : 8\n",
      "it's Even Number : 10\n"
     ]
    }
   ],
   "source": [
    "def Even_function():\n",
    "    even =[2,4,3,7,9,8,10]\n",
    "    for check_even in even:\n",
    "        if check_even % 2 == 0:\n",
    "            print(\"it\\'s Even Number :\",check_even)\n",
    "        \n",
    "Even_function()            "
   ]
  },
  {
   "cell_type": "code",
   "execution_count": 13,
   "metadata": {},
   "outputs": [
    {
     "name": "stdout",
     "output_type": "stream",
     "text": [
      "rotor\n",
      "This word is a palindrome\n"
     ]
    }
   ],
   "source": [
    "def ispalindrome(val):\n",
    "    wrd=str(val)\n",
    "    #reversed_list [start:stop:step]\n",
    "    rvs=wrd[::-1]\n",
    "    print(rvs)\n",
    "    \n",
    "    if wrd == rvs:\n",
    "        print(\"This word is a palindrome\")\n",
    "    else:\n",
    "        print(\"This word is not a palindrome\")\n",
    "    \n",
    "ispalindrome('rotor')        "
   ]
  },
  {
   "cell_type": "code",
   "execution_count": 25,
   "metadata": {},
   "outputs": [
    {
     "name": "stdout",
     "output_type": "stream",
     "text": [
      "7 is a prime number\n"
     ]
    }
   ],
   "source": [
    "def check_Prime_No(num= 7):\n",
    "    if num > 1:\n",
    "           for i in range(2, num):\n",
    "                if (num % i) == 0:\n",
    "                    print(num,\"is not a prime number\")\n",
    "                else:\n",
    "                    print(num,\"is a prime number\")\n",
    "                    break\n",
    "               \n",
    "    #if num is less than 1 or equal to 1 then this condition would be occur\n",
    "    else:\n",
    "        print(num,\"is not a prime number\")\n",
    "\n",
    "check_Prime_No()    "
   ]
  },
  {
   "cell_type": "code",
   "execution_count": 27,
   "metadata": {},
   "outputs": [
    {
     "name": "stdout",
     "output_type": "stream",
     "text": [
      "KASHAF shopping from boluevard mall\n",
      "she bought:\n",
      "chips\n",
      "toffess\n",
      "sea food\n",
      "dishes\n",
      "clothes\n",
      "jewellery\n"
     ]
    }
   ],
   "source": [
    "shopping_list=['chips','toffess','sea food','dishes' ]\n",
    "\n",
    "def shopping_market(name, mall, others, *params):\n",
    "    print(name,\"shopping from\",mall)\n",
    "    print(\"she bought:\")\n",
    "    for item in others:\n",
    "        print(item)\n",
    "    for loop in params:\n",
    "        print(loop)\n",
    "    \n",
    "shopping_market('KASHAF', 'boluevard mall',shopping_list,'clothes','jewellery')    "
   ]
  },
  {
   "cell_type": "code",
   "execution_count": null,
   "metadata": {},
   "outputs": [],
   "source": []
  }
 ],
 "metadata": {
  "kernelspec": {
   "display_name": "Python 3",
   "language": "python",
   "name": "python3"
  },
  "language_info": {
   "codemirror_mode": {
    "name": "ipython",
    "version": 3
   },
   "file_extension": ".py",
   "mimetype": "text/x-python",
   "name": "python",
   "nbconvert_exporter": "python",
   "pygments_lexer": "ipython3",
   "version": "3.7.4"
  }
 },
 "nbformat": 4,
 "nbformat_minor": 2
}
